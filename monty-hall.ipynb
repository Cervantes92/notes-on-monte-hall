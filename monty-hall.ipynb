{
 "cells": [
  {
   "cell_type": "markdown",
   "metadata": {},
   "source": [
    "<h2>The Setup:</h2>\n",
    "<p>You are on a game show and given the choice of whatever is behind three doors. Behind one door is a fantastic prize (some examples use a car, others use cash) while behind the other two doors is a dud (some examples say a goat, others say it's just empty). You pick a door. Then the host opens one of the other two doors to reveal a dud. But here's the wrinkle: the host now gives you the opportunity to switch your door. What should you do?</p>\n",
    "\n",
    "<h2>Observations:</h2>\n",
    "<p>At a glance, it appears as if you have a 50% chance of choosing the correct door once the dud has been revealed, as the act of revealing a dud does not change the inherently change the deterministic result. However, this ignores that the host either had to choose from two duds or had only one dud to reveal, so if the prize happens to be behind one of the doors you did not choose, it will be behind the one that the host did not reveal.</p>\n",
    "\n",
    "<p>Consider all the options the host could possibly see. There is one outcome in which both doors are duds, and two outcomes in which the prize is behind the door the guest has not chosen. Using this logic, we can deduce that switching provides a 2/3rds chance of resulting in a positive outcome for the guest. In short, revealing the new information does not change the probability that the prize is behind the chosen door, but the new information causes us to reasses the probability that the prize is behind the other door.</p>"
   ]
  }
 ],
 "metadata": {
  "kernelspec": {
   "display_name": "Python 3",
   "language": "python",
   "name": "python3"
  },
  "language_info": {
   "codemirror_mode": {
    "name": "ipython",
    "version": 3
   },
   "file_extension": ".py",
   "mimetype": "text/x-python",
   "name": "python",
   "nbconvert_exporter": "python",
   "pygments_lexer": "ipython3",
   "version": "3.6.0"
  }
 },
 "nbformat": 4,
 "nbformat_minor": 2
}
